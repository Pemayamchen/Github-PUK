{
 "cells": [
  {
   "cell_type": "code",
   "execution_count": 4,
   "metadata": {},
   "outputs": [],
   "source": [
    "import numpy as np \n",
    "import pandas as pd\n",
    "import random as rm\n",
    "# shift + enter to run cells\n",
    "# python3 -m pip install til at installere moduler"
   ]
  },
  {
   "cell_type": "code",
   "execution_count": 5,
   "metadata": {},
   "outputs": [
    {
     "name": "stdout",
     "output_type": "stream",
     "text": [
      "80.11898766110993 87.72890304655726\n",
      "40.41977233146227\n",
      "159.31107776362757 166.9209931490749\n",
      "79.19209010251764\n",
      "318.88138124498084 326.49129663042817\n",
      "159.57030348135328\n",
      "638.0595442852093 645.6694596706566\n",
      "319.1781630402284\n",
      "1276.3472266100239 1283.957141995471\n",
      "638.2876823248145\n",
      "2552.176273756668 2559.7861891421153\n",
      "1275.8290471466441\n",
      "5105.334553803023 5112.944469188471\n",
      "2553.1582800463552\n",
      "10210.505695136926 10218.115610522374\n",
      "5105.171141333904\n",
      "20420.735800833994 20428.345716219443\n",
      "10210.230105697068\n",
      "40840.91126407792 40848.521179463365\n",
      "20420.175463243926\n"
     ]
    }
   ],
   "source": [
    "n = 11 # antallet af steps\n",
    "x0 = rm.uniform(35,85)\n",
    "y0 = rm.uniform(25,60)\n",
    "# range er lige nu baseret på ca. datasæt fra Nanobio 1\n",
    "\n",
    "for i in range(1,n):\n",
    "    step = rm.gauss(x0,1)\n",
    "    x0 = x0 + step\n",
    "    x_list = [x0]\n",
    "    x_list.append(x0)\n",
    "    \n",
    "    y0 = y0 + step\n",
    "    y_list = [y0]\n",
    "    y_list.append(y0)\n",
    "    print(x0,y0)\n",
    "    print(step)\n",
    "# her skal de to lister defineres / \"gemmes\"\n",
    "\n",
    "# Jeg vil gerne have, at x,y for i afhænger af x,y for i-1. I stedet for x0,y0 skal det være x,y fra forrige step... \n",
    "# Derudover er jeg lidt i tvivl om standardafvigelsen. Hvor stor bør den være? Der er noget galt med gauss random generator. Tallene bliver meget store, jeg mistænker den adderer alle forrige x0 sammen?\n",
    "# Herved dannes et track. Udenom vil jeg lave et til for-loop, så der dannes flere tracks (det vil så være muligt at styre hvor mange vha. det loop). Jeg vil gerne definere hvert track, så man bagefter kan sige track1 + track2... (som ses nedenfor)\n",
    "# step skal indeholde diffusion/brownian motion\n"
   ]
  },
  {
   "cell_type": "code",
   "execution_count": 6,
   "metadata": {},
   "outputs": [],
   "source": [
    "# herfra og ned var bare noget basic træning med andre tal for at se, hvordan jeg kan koble tracks sammen og derved dannet et samlet datasæt. \n",
    "def data1 (x,a,b):\n",
    "    return a*x+b"
   ]
  },
  {
   "cell_type": "code",
   "execution_count": 7,
   "metadata": {},
   "outputs": [],
   "source": [
    "x_1 = np.linspace(0,50,9)\n",
    "x_2 = np.linspace(0,100,20)\n",
    "y_1 = data1(x_1,2,5)\n",
    "y_2 = data1(x_2,2,5)\n",
    "\n",
    "track_ID = list(np.zeros(9)) + list(np.ones(20))\n",
    "x_dat = list(x_1) + list(x_2)\n",
    "y_dat = list(y_1) + list(y_2)"
   ]
  },
  {
   "cell_type": "code",
   "execution_count": 8,
   "metadata": {},
   "outputs": [],
   "source": [
    "dicto = {'ID':track_ID,'x':x_dat,'y':y_dat}\n",
    "df = pd.DataFrame(dicto)"
   ]
  },
  {
   "cell_type": "code",
   "execution_count": 9,
   "metadata": {},
   "outputs": [
    {
     "data": {
      "text/html": [
       "<div>\n",
       "<style scoped>\n",
       "    .dataframe tbody tr th:only-of-type {\n",
       "        vertical-align: middle;\n",
       "    }\n",
       "\n",
       "    .dataframe tbody tr th {\n",
       "        vertical-align: top;\n",
       "    }\n",
       "\n",
       "    .dataframe thead th {\n",
       "        text-align: right;\n",
       "    }\n",
       "</style>\n",
       "<table border=\"1\" class=\"dataframe\">\n",
       "  <thead>\n",
       "    <tr style=\"text-align: right;\">\n",
       "      <th></th>\n",
       "      <th>ID</th>\n",
       "      <th>x</th>\n",
       "      <th>y</th>\n",
       "    </tr>\n",
       "  </thead>\n",
       "  <tbody>\n",
       "    <tr>\n",
       "      <th>0</th>\n",
       "      <td>0.0</td>\n",
       "      <td>0.00</td>\n",
       "      <td>5.0</td>\n",
       "    </tr>\n",
       "    <tr>\n",
       "      <th>1</th>\n",
       "      <td>0.0</td>\n",
       "      <td>6.25</td>\n",
       "      <td>17.5</td>\n",
       "    </tr>\n",
       "    <tr>\n",
       "      <th>2</th>\n",
       "      <td>0.0</td>\n",
       "      <td>12.50</td>\n",
       "      <td>30.0</td>\n",
       "    </tr>\n",
       "    <tr>\n",
       "      <th>3</th>\n",
       "      <td>0.0</td>\n",
       "      <td>18.75</td>\n",
       "      <td>42.5</td>\n",
       "    </tr>\n",
       "    <tr>\n",
       "      <th>4</th>\n",
       "      <td>0.0</td>\n",
       "      <td>25.00</td>\n",
       "      <td>55.0</td>\n",
       "    </tr>\n",
       "    <tr>\n",
       "      <th>5</th>\n",
       "      <td>0.0</td>\n",
       "      <td>31.25</td>\n",
       "      <td>67.5</td>\n",
       "    </tr>\n",
       "    <tr>\n",
       "      <th>6</th>\n",
       "      <td>0.0</td>\n",
       "      <td>37.50</td>\n",
       "      <td>80.0</td>\n",
       "    </tr>\n",
       "    <tr>\n",
       "      <th>7</th>\n",
       "      <td>0.0</td>\n",
       "      <td>43.75</td>\n",
       "      <td>92.5</td>\n",
       "    </tr>\n",
       "    <tr>\n",
       "      <th>8</th>\n",
       "      <td>0.0</td>\n",
       "      <td>50.00</td>\n",
       "      <td>105.0</td>\n",
       "    </tr>\n",
       "    <tr>\n",
       "      <th>9</th>\n",
       "      <td>1.0</td>\n",
       "      <td>0.00</td>\n",
       "      <td>5.0</td>\n",
       "    </tr>\n",
       "  </tbody>\n",
       "</table>\n",
       "</div>"
      ],
      "text/plain": [
       "    ID      x      y\n",
       "0  0.0   0.00    5.0\n",
       "1  0.0   6.25   17.5\n",
       "2  0.0  12.50   30.0\n",
       "3  0.0  18.75   42.5\n",
       "4  0.0  25.00   55.0\n",
       "5  0.0  31.25   67.5\n",
       "6  0.0  37.50   80.0\n",
       "7  0.0  43.75   92.5\n",
       "8  0.0  50.00  105.0\n",
       "9  1.0   0.00    5.0"
      ]
     },
     "execution_count": 9,
     "metadata": {},
     "output_type": "execute_result"
    }
   ],
   "source": [
    "df.head(10)"
   ]
  }
 ],
 "metadata": {
  "interpreter": {
   "hash": "d93a54a4f876eb44992e4aa223a0357e2e302241b14c557c188f70368734c6b8"
  },
  "kernelspec": {
   "display_name": "Python 3.10.2 64-bit (windows store)",
   "language": "python",
   "name": "python3"
  },
  "language_info": {
   "codemirror_mode": {
    "name": "ipython",
    "version": 3
   },
   "file_extension": ".py",
   "mimetype": "text/x-python",
   "name": "python",
   "nbconvert_exporter": "python",
   "pygments_lexer": "ipython3",
   "version": "3.10.2"
  },
  "orig_nbformat": 4
 },
 "nbformat": 4,
 "nbformat_minor": 2
}
