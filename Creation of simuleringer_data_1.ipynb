{
 "cells": [
  {
   "cell_type": "code",
   "execution_count": 51,
   "metadata": {},
   "outputs": [],
   "source": [
    "import numpy as np \n",
    "import pandas as pd\n",
    "import random as rm\n",
    "import math\n",
    "# shift + enter to run cells\n",
    "# python3 -m pip install til at installere moduler"
   ]
  },
  {
   "cell_type": "code",
   "execution_count": 52,
   "metadata": {},
   "outputs": [
    {
     "name": "stdout",
     "output_type": "stream",
     "text": [
      "x,y bliver:  116.17331394752777 88.44975764374098\n",
      "Steppet bliver da:  57.08224986016468\n",
      "x,y bliver:  230.77699621932268 203.05343991553588\n",
      "Steppet bliver da:  114.60368227179491\n",
      "x,y bliver:  462.63533383964864 434.9117775358618\n",
      "Steppet bliver da:  231.85833762032595\n",
      "x,y bliver:  923.8650600247806 896.1415037209938\n",
      "Steppet bliver da:  461.22972618513194\n",
      "x,y bliver:  1848.5533643820372 1820.8298080782502\n",
      "Steppet bliver da:  924.6883043572565\n",
      "x,y bliver:  3697.1931764536457 3669.469620149858\n",
      "Steppet bliver da:  1848.6398120716083\n",
      "x,y bliver:  7394.703092182999 7366.979535879213\n",
      "Steppet bliver da:  3697.509915729354\n",
      "x,y bliver:  14790.633504881753 14762.909948577966\n",
      "Steppet bliver da:  7395.9304126987545\n",
      "x,y bliver:  29582.90789835964 29555.184342055854\n",
      "Steppet bliver da:  14792.274393477888\n",
      "x,y bliver:  59166.51400868129 59138.79045237751\n",
      "Steppet bliver da:  29583.606110321653\n"
     ]
    }
   ],
   "source": [
    "n = 11 # antallet af steps\n",
    "x0 = rm.uniform(35,85)\n",
    "y0 = rm.uniform(25,60)\n",
    "# range er lige nu baseret på ca. datasæt fra Nanobio 1\n",
    "\n",
    "for i in range(1,n):\n",
    "    step = 2*math.sqrt(1*10**-8*1**1)+rm.gauss(x0,1)\n",
    "    x0 = x0 + step\n",
    "    x_list = [x0]\n",
    "    x_list.append(x0)\n",
    "    \n",
    "    y0 = y0 + step\n",
    "    y_list = [y0]\n",
    "    y_list.append(y0)\n",
    "    print('x,y bliver: ', x0,y0)\n",
    "    print('Steppet bliver da: ', step)\n",
    "# her skal de to lister defineres / \"gemmes\"\n",
    "\n",
    "# Jeg vil gerne have, at x,y for i afhænger af x,y for i-1. I stedet for x0,y0 skal det være x,y fra forrige step... \n",
    "# Derudover er jeg lidt i tvivl om standardafvigelsen. Hvor stor bør den være? Der er noget galt med gauss random generator. Tallene bliver meget store, jeg mistænker den adderer alle forrige x0 sammen?\n",
    "# Herved dannes et track. Udenom vil jeg lave et til for-loop, så der dannes flere tracks (det vil så være muligt at styre hvor mange vha. det loop). Jeg vil gerne definere hvert track, så man bagefter kan sige track1 + track2... (som ses nedenfor)\n"
   ]
  },
  {
   "cell_type": "code",
   "execution_count": 53,
   "metadata": {},
   "outputs": [],
   "source": [
    "# herfra og ned var bare noget basic træning med andre tal for at se, hvordan jeg kan koble tracks sammen og derved dannet et samlet datasæt. \n",
    "def data1 (x,a,b):\n",
    "    return a*x+b"
   ]
  },
  {
   "cell_type": "code",
   "execution_count": 54,
   "metadata": {},
   "outputs": [],
   "source": [
    "x_1 = np.linspace(0,50,9)\n",
    "x_2 = np.linspace(0,100,20)\n",
    "y_1 = data1(x_1,2,5)\n",
    "y_2 = data1(x_2,2,5)\n",
    "\n",
    "track_ID = list(np.zeros(9)) + list(np.ones(20))\n",
    "x_dat = list(x_1) + list(x_2)\n",
    "y_dat = list(y_1) + list(y_2)"
   ]
  },
  {
   "cell_type": "code",
   "execution_count": 55,
   "metadata": {},
   "outputs": [],
   "source": [
    "dicto = {'ID':track_ID,'x':x_dat,'y':y_dat}\n",
    "df = pd.DataFrame(dicto)"
   ]
  },
  {
   "cell_type": "code",
   "execution_count": 56,
   "metadata": {},
   "outputs": [
    {
     "data": {
      "text/html": [
       "<div>\n",
       "<style scoped>\n",
       "    .dataframe tbody tr th:only-of-type {\n",
       "        vertical-align: middle;\n",
       "    }\n",
       "\n",
       "    .dataframe tbody tr th {\n",
       "        vertical-align: top;\n",
       "    }\n",
       "\n",
       "    .dataframe thead th {\n",
       "        text-align: right;\n",
       "    }\n",
       "</style>\n",
       "<table border=\"1\" class=\"dataframe\">\n",
       "  <thead>\n",
       "    <tr style=\"text-align: right;\">\n",
       "      <th></th>\n",
       "      <th>ID</th>\n",
       "      <th>x</th>\n",
       "      <th>y</th>\n",
       "    </tr>\n",
       "  </thead>\n",
       "  <tbody>\n",
       "    <tr>\n",
       "      <th>0</th>\n",
       "      <td>0.0</td>\n",
       "      <td>0.00</td>\n",
       "      <td>5.0</td>\n",
       "    </tr>\n",
       "    <tr>\n",
       "      <th>1</th>\n",
       "      <td>0.0</td>\n",
       "      <td>6.25</td>\n",
       "      <td>17.5</td>\n",
       "    </tr>\n",
       "    <tr>\n",
       "      <th>2</th>\n",
       "      <td>0.0</td>\n",
       "      <td>12.50</td>\n",
       "      <td>30.0</td>\n",
       "    </tr>\n",
       "    <tr>\n",
       "      <th>3</th>\n",
       "      <td>0.0</td>\n",
       "      <td>18.75</td>\n",
       "      <td>42.5</td>\n",
       "    </tr>\n",
       "    <tr>\n",
       "      <th>4</th>\n",
       "      <td>0.0</td>\n",
       "      <td>25.00</td>\n",
       "      <td>55.0</td>\n",
       "    </tr>\n",
       "    <tr>\n",
       "      <th>5</th>\n",
       "      <td>0.0</td>\n",
       "      <td>31.25</td>\n",
       "      <td>67.5</td>\n",
       "    </tr>\n",
       "    <tr>\n",
       "      <th>6</th>\n",
       "      <td>0.0</td>\n",
       "      <td>37.50</td>\n",
       "      <td>80.0</td>\n",
       "    </tr>\n",
       "    <tr>\n",
       "      <th>7</th>\n",
       "      <td>0.0</td>\n",
       "      <td>43.75</td>\n",
       "      <td>92.5</td>\n",
       "    </tr>\n",
       "    <tr>\n",
       "      <th>8</th>\n",
       "      <td>0.0</td>\n",
       "      <td>50.00</td>\n",
       "      <td>105.0</td>\n",
       "    </tr>\n",
       "    <tr>\n",
       "      <th>9</th>\n",
       "      <td>1.0</td>\n",
       "      <td>0.00</td>\n",
       "      <td>5.0</td>\n",
       "    </tr>\n",
       "  </tbody>\n",
       "</table>\n",
       "</div>"
      ],
      "text/plain": [
       "    ID      x      y\n",
       "0  0.0   0.00    5.0\n",
       "1  0.0   6.25   17.5\n",
       "2  0.0  12.50   30.0\n",
       "3  0.0  18.75   42.5\n",
       "4  0.0  25.00   55.0\n",
       "5  0.0  31.25   67.5\n",
       "6  0.0  37.50   80.0\n",
       "7  0.0  43.75   92.5\n",
       "8  0.0  50.00  105.0\n",
       "9  1.0   0.00    5.0"
      ]
     },
     "execution_count": 56,
     "metadata": {},
     "output_type": "execute_result"
    }
   ],
   "source": [
    "df.head(10)"
   ]
  }
 ],
 "metadata": {
  "interpreter": {
   "hash": "d93a54a4f876eb44992e4aa223a0357e2e302241b14c557c188f70368734c6b8"
  },
  "kernelspec": {
   "display_name": "Python 3.10.2 64-bit (windows store)",
   "language": "python",
   "name": "python3"
  },
  "language_info": {
   "codemirror_mode": {
    "name": "ipython",
    "version": 3
   },
   "file_extension": ".py",
   "mimetype": "text/x-python",
   "name": "python",
   "nbconvert_exporter": "python",
   "pygments_lexer": "ipython3",
   "version": "3.10.2"
  },
  "orig_nbformat": 4
 },
 "nbformat": 4,
 "nbformat_minor": 2
}
